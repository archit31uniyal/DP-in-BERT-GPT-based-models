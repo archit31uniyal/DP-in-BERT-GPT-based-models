{
  "nbformat": 4,
  "nbformat_minor": 2,
  "metadata": {
    "colab": {
      "name": "Minor Project Augmentation",
      "provenance": [],
      "collapsed_sections": []
    },
    "kernelspec": {
      "name": "python3",
      "display_name": "Python 3.8.10 64-bit ('text_aug': venv)"
    },
    "language_info": {
      "name": "python",
      "version": "3.8.10",
      "mimetype": "text/x-python",
      "codemirror_mode": {
        "name": "ipython",
        "version": 3
      },
      "pygments_lexer": "ipython3",
      "nbconvert_exporter": "python",
      "file_extension": ".py"
    },
    "accelerator": "GPU",
    "interpreter": {
      "hash": "85cefe014f11ea2f9702252d1352a4731f919e37902bd73ee0af41d22006e915"
    }
  },
  "cells": [
    {
      "cell_type": "code",
      "execution_count": 1,
      "source": [
        "import numpy as np\n",
        "import re\n",
        "import nlpaug.augmenter.word as naw\n",
        "import pandas as pd\n",
        "from tqdm import tqdm\n",
        "import os"
      ],
      "outputs": [],
      "metadata": {
        "id": "Leg5g0k4g2lq"
      }
    },
    {
      "cell_type": "code",
      "execution_count": 2,
      "source": [
        "file_path = \"\""
      ],
      "outputs": [],
      "metadata": {
        "id": "STjgM3JM4Er-"
      }
    },
    {
      "cell_type": "code",
      "execution_count": 3,
      "source": [
        "df = pd.read_csv(os.path.join(file_path, 'mtsamples.csv'))\n",
        "try:\n",
        "    df.drop('Unnamed: 0', axis=1, inplace=True)\n",
        "except Exception:\n",
        "    pass"
      ],
      "outputs": [],
      "metadata": {
        "id": "mJDPOuWfhnA_"
      }
    },
    {
      "cell_type": "code",
      "execution_count": 4,
      "source": [
        "df.head(5)"
      ],
      "outputs": [
        {
          "output_type": "execute_result",
          "data": {
            "text/html": [
              "<div>\n",
              "<style scoped>\n",
              "    .dataframe tbody tr th:only-of-type {\n",
              "        vertical-align: middle;\n",
              "    }\n",
              "\n",
              "    .dataframe tbody tr th {\n",
              "        vertical-align: top;\n",
              "    }\n",
              "\n",
              "    .dataframe thead th {\n",
              "        text-align: right;\n",
              "    }\n",
              "</style>\n",
              "<table border=\"1\" class=\"dataframe\">\n",
              "  <thead>\n",
              "    <tr style=\"text-align: right;\">\n",
              "      <th></th>\n",
              "      <th>description</th>\n",
              "      <th>medical_specialty</th>\n",
              "      <th>sample_name</th>\n",
              "      <th>transcription</th>\n",
              "      <th>keywords</th>\n",
              "    </tr>\n",
              "  </thead>\n",
              "  <tbody>\n",
              "    <tr>\n",
              "      <th>0</th>\n",
              "      <td>A 23-year-old white female presents with comp...</td>\n",
              "      <td>Allergy / Immunology</td>\n",
              "      <td>Allergic Rhinitis</td>\n",
              "      <td>SUBJECTIVE:,  This 23-year-old white female pr...</td>\n",
              "      <td>allergy / immunology, allergic rhinitis, aller...</td>\n",
              "    </tr>\n",
              "    <tr>\n",
              "      <th>1</th>\n",
              "      <td>Consult for laparoscopic gastric bypass.</td>\n",
              "      <td>Bariatrics</td>\n",
              "      <td>Laparoscopic Gastric Bypass Consult - 2</td>\n",
              "      <td>PAST MEDICAL HISTORY:, He has difficulty climb...</td>\n",
              "      <td>bariatrics, laparoscopic gastric bypass, weigh...</td>\n",
              "    </tr>\n",
              "    <tr>\n",
              "      <th>2</th>\n",
              "      <td>Consult for laparoscopic gastric bypass.</td>\n",
              "      <td>Bariatrics</td>\n",
              "      <td>Laparoscopic Gastric Bypass Consult - 1</td>\n",
              "      <td>HISTORY OF PRESENT ILLNESS: , I have seen ABC ...</td>\n",
              "      <td>bariatrics, laparoscopic gastric bypass, heart...</td>\n",
              "    </tr>\n",
              "    <tr>\n",
              "      <th>3</th>\n",
              "      <td>2-D M-Mode. Doppler.</td>\n",
              "      <td>Cardiovascular / Pulmonary</td>\n",
              "      <td>2-D Echocardiogram - 1</td>\n",
              "      <td>2-D M-MODE: , ,1.  Left atrial enlargement wit...</td>\n",
              "      <td>cardiovascular / pulmonary, 2-d m-mode, dopple...</td>\n",
              "    </tr>\n",
              "    <tr>\n",
              "      <th>4</th>\n",
              "      <td>2-D Echocardiogram</td>\n",
              "      <td>Cardiovascular / Pulmonary</td>\n",
              "      <td>2-D Echocardiogram - 2</td>\n",
              "      <td>1.  The left ventricular cavity size and wall ...</td>\n",
              "      <td>cardiovascular / pulmonary, 2-d, doppler, echo...</td>\n",
              "    </tr>\n",
              "  </tbody>\n",
              "</table>\n",
              "</div>"
            ],
            "text/plain": [
              "                                         description  \\\n",
              "0   A 23-year-old white female presents with comp...   \n",
              "1           Consult for laparoscopic gastric bypass.   \n",
              "2           Consult for laparoscopic gastric bypass.   \n",
              "3                             2-D M-Mode. Doppler.     \n",
              "4                                 2-D Echocardiogram   \n",
              "\n",
              "             medical_specialty                                sample_name  \\\n",
              "0         Allergy / Immunology                         Allergic Rhinitis    \n",
              "1                   Bariatrics   Laparoscopic Gastric Bypass Consult - 2    \n",
              "2                   Bariatrics   Laparoscopic Gastric Bypass Consult - 1    \n",
              "3   Cardiovascular / Pulmonary                    2-D Echocardiogram - 1    \n",
              "4   Cardiovascular / Pulmonary                    2-D Echocardiogram - 2    \n",
              "\n",
              "                                       transcription  \\\n",
              "0  SUBJECTIVE:,  This 23-year-old white female pr...   \n",
              "1  PAST MEDICAL HISTORY:, He has difficulty climb...   \n",
              "2  HISTORY OF PRESENT ILLNESS: , I have seen ABC ...   \n",
              "3  2-D M-MODE: , ,1.  Left atrial enlargement wit...   \n",
              "4  1.  The left ventricular cavity size and wall ...   \n",
              "\n",
              "                                            keywords  \n",
              "0  allergy / immunology, allergic rhinitis, aller...  \n",
              "1  bariatrics, laparoscopic gastric bypass, weigh...  \n",
              "2  bariatrics, laparoscopic gastric bypass, heart...  \n",
              "3  cardiovascular / pulmonary, 2-d m-mode, dopple...  \n",
              "4  cardiovascular / pulmonary, 2-d, doppler, echo...  "
            ]
          },
          "metadata": {},
          "execution_count": 4
        }
      ],
      "metadata": {
        "colab": {
          "base_uri": "https://localhost:8080/",
          "height": 293
        },
        "id": "ehM-Rz1Rhwiy",
        "outputId": "13ee8f9f-5df1-4055-aa19-066b50ae4dfe"
      }
    },
    {
      "cell_type": "code",
      "execution_count": 5,
      "source": [
        "def replace_side(s):\n",
        "    side = re.search(r'\\bleft\\b|\\bright\\b', s, flags=re.IGNORECASE)\n",
        "    if side:\n",
        "        side = side.group().lower()\n",
        "\n",
        "        if side == 'left':\n",
        "            return re.sub(r'\\bleft\\b', 'right', s, flags=re.IGNORECASE)\n",
        "\n",
        "        elif side == 'right':\n",
        "            return re.sub(r'\\bright\\b', 'left', s, flags=re.IGNORECASE)\n",
        "\n",
        "    return s\n",
        "\n",
        "\n",
        "def replace_age(s):\n",
        "    res = re.search(r'\\d{2}\\b-(year|month)-old\\b', s)\n",
        "    if res:\n",
        "        res = res.group()\n",
        "\n",
        "        age, restofstr = int(res[:2]), res[2:]\n",
        "        age += np.random.randint(1, 10) * np.random.choice([-1, 1])\n",
        "\n",
        "        return re.sub(r'\\d{2}\\b-(year|month)-old\\b', str(age)+restofstr, s, flags=re.IGNORECASE)\n",
        "    else:\n",
        "        return s\n",
        "\n",
        "def replace_gen(s):\n",
        "    genkeys_f = ['female', 'girl', 'she', 'her', 'woman', 'lady']\n",
        "    genkeys_m = ['male', 'boy', 'he', 'him', 'gentleman', 'man', 'his']\n",
        "\n",
        "    allgenkeys = genkeys_f.copy()\n",
        "    allgenkeys.extend(genkeys_m)\n",
        "\n",
        "    pattern = '|'.join([f'\\\\b{w}\\\\b' for w in allgenkeys])\n",
        "    gen = re.search(pattern, s, flags=re.IGNORECASE | re.MULTILINE)\n",
        "\n",
        "    if gen:\n",
        "        gen = gen.group().lower()\n",
        "\n",
        "        if gen in genkeys_f:\n",
        "            s = re.sub(r'\\bfemale\\b', 'male', s, flags=re.IGNORECASE)\n",
        "            s = re.sub(r'\\bshe\\b', 'he', s, flags=re.IGNORECASE)\n",
        "            s = re.sub(r'\\bher\\b', 'him', s, flags=re.IGNORECASE)\n",
        "            s = re.sub(r'\\bgirl\\b', 'boy', s, flags=re.IGNORECASE)\n",
        "            s = re.sub(r'\\blady\\b|\\bwoman\\b', 'man', s, flags=re.IGNORECASE)\n",
        "\n",
        "        elif gen in genkeys_m:\n",
        "            s = re.sub(r'\\bmale\\b', 'female', s, flags=re.IGNORECASE)\n",
        "            s = re.sub(r'\\bhe\\b', 'she', s, flags=re.IGNORECASE)\n",
        "            s = re.sub(r'\\bhim\\b|\\bhis\\b', 'her', s, flags=re.IGNORECASE)\n",
        "            s = re.sub(r'\\bboy\\b', 'girl', s, flags=re.IGNORECASE)\n",
        "            s = re.sub(r'\\bman\\b|\\bgentleman\\b', 'woman', s, flags=re.IGNORECASE)\n",
        "\n",
        "    return s\n",
        "\n",
        "def random_key(keywords: list):\n",
        "    if keywords:\n",
        "        return np.random.choice(np.array(keywords))\n",
        "\n",
        "def replace_disease(s, keyword_str):\n",
        "    try:\n",
        "        keywords = re.split(r', +', keyword_str.rstrip(','))\n",
        "        pattern = '|'.join(f'\\\\b{w}\\\\b' for w in keywords)\n",
        "        return re.sub(pattern, lambda m: random_key(keywords), s, flags=re.IGNORECASE | re.MULTILINE)\n",
        "    except:\n",
        "        return s\n",
        "\n",
        "\n",
        "def change_num(m):\n",
        "    if m.isdigit():\n",
        "        try:\n",
        "            m = int(m)\n",
        "            if m > 10:\n",
        "                m += np.random.randint(1, 10) * np.random.choice([-1, 1])\n",
        "            else:\n",
        "                subexp = np.random.randint(1, 5) * np.random.choice([-1, 1])\n",
        "                if m + subexp > 0:\n",
        "                    m += subexp\n",
        "        except:\n",
        "            return m\n",
        "    else:\n",
        "        try:\n",
        "            m = float(m)\n",
        "            if m <= 1.0:\n",
        "                subexp = np.random.rand() * np.random.choice([-1, 1])\n",
        "                if m + subexp > 0.0:\n",
        "                    m += subexp\n",
        "\n",
        "            elif 1.0 < m <= 10.0:\n",
        "                subexp = np.random.uniform(1.0, 3.1) * np.random.choice([-1, 1])\n",
        "                if m + subexp > 0.0:\n",
        "                    m += subexp\n",
        "\n",
        "            else:\n",
        "                m += np.random.uniform(1.0, 5.0) * np.random.choice([-1, 1])\n",
        "        except:\n",
        "            return m\n",
        "\n",
        "    return str(np.round(m, decimals=2))\n",
        "\n",
        "\n",
        "def replace_num(s):\n",
        "    try:\n",
        "        return re.sub(r'\\d*\\.?\\d+', lambda m: change_num(m.group()), s)\n",
        "    except:\n",
        "        return s"
      ],
      "outputs": [],
      "metadata": {
        "id": "Njd3FFS-lQFr"
      }
    },
    {
      "cell_type": "code",
      "execution_count": 6,
      "source": [
        "aug = naw.ContextualWordEmbsAug(model_path='bert-base-uncased', action='substitute')"
      ],
      "outputs": [],
      "metadata": {
        "id": "wnlNTHvMlCKE"
      }
    },
    {
      "cell_type": "code",
      "execution_count": 7,
      "source": [
        "data = []"
      ],
      "outputs": [],
      "metadata": {
        "id": "gOTL8sQClH7F"
      }
    },
    {
      "cell_type": "code",
      "execution_count": 8,
      "source": [
        "skipped_rec = []\n",
        "for idx, row in tqdm(df.iterrows()):   \n",
        " \n",
        "    desc = row[0]\n",
        "    trans = row[3]\n",
        "    keywords = row[4]\n",
        "\n",
        "    if not (pd.isnull(desc) or pd.isnull(trans)):\n",
        "\n",
        "        # re aug-----------------------------\n",
        "        \n",
        "        desc = replace_num(desc)        \n",
        "        desc = replace_gen(desc)\n",
        "        desc = replace_side(desc)\n",
        "\n",
        "        if not pd.isnull(keywords):\n",
        "            desc = replace_disease(desc, keywords)\n",
        "            trans = replace_disease(trans, keywords)\n",
        "\n",
        "        trans = replace_gen(trans)\n",
        "        trans = replace_num(trans)\n",
        "        trans = replace_side(trans)\n",
        "        \n",
        "        # --------------------comb 1--------------------------\n",
        "\n",
        "        data.append([desc, row[1], row[2], trans, keywords])\n",
        "\n",
        "        # # ----------------bert aug---------------------------\n",
        "\n",
        "        trans = aug.augment(trans)\n",
        "        desc = aug.augment(desc)\n",
        "\n",
        "        # # ---------------------comb 2--------------------------\n",
        "\n",
        "        data.append([desc, row[1], row[2], trans, keywords])\n",
        "\n",
        "    else:\n",
        "        skipped_rec.append(idx)\n",
        "\n"
      ],
      "outputs": [
        {
          "output_type": "stream",
          "name": "stderr",
          "text": [
            "4999it [00:59, 83.34it/s]\n"
          ]
        }
      ],
      "metadata": {
        "colab": {
          "base_uri": "https://localhost:8080/",
          "height": 454
        },
        "id": "izynbbZ-lZPC",
        "outputId": "e3e2470c-6456-4010-a6a1-938b1e3ff2e1"
      }
    },
    {
      "cell_type": "code",
      "execution_count": 9,
      "source": [
        "df2 = pd.DataFrame(data, columns=list(df.columns))\n",
        "df2.head(5)"
      ],
      "outputs": [
        {
          "output_type": "execute_result",
          "data": {
            "text/html": [
              "<div>\n",
              "<style scoped>\n",
              "    .dataframe tbody tr th:only-of-type {\n",
              "        vertical-align: middle;\n",
              "    }\n",
              "\n",
              "    .dataframe tbody tr th {\n",
              "        vertical-align: top;\n",
              "    }\n",
              "\n",
              "    .dataframe thead th {\n",
              "        text-align: right;\n",
              "    }\n",
              "</style>\n",
              "<table border=\"1\" class=\"dataframe\">\n",
              "  <thead>\n",
              "    <tr style=\"text-align: right;\">\n",
              "      <th></th>\n",
              "      <th>description</th>\n",
              "      <th>medical_specialty</th>\n",
              "      <th>sample_name</th>\n",
              "      <th>transcription</th>\n",
              "      <th>keywords</th>\n",
              "    </tr>\n",
              "  </thead>\n",
              "  <tbody>\n",
              "    <tr>\n",
              "      <th>0</th>\n",
              "      <td>A 15-year-old white male presents with compla...</td>\n",
              "      <td>Allergy / Immunology</td>\n",
              "      <td>Allergic Rhinitis</td>\n",
              "      <td>SUBJECTIVE:,  This 29-year-old white male pres...</td>\n",
              "      <td>allergy / immunology, allergic rhinitis, aller...</td>\n",
              "    </tr>\n",
              "    <tr>\n",
              "      <th>1</th>\n",
              "      <td>Consult for laparoscopic gastric bypass.</td>\n",
              "      <td>Bariatrics</td>\n",
              "      <td>Laparoscopic Gastric Bypass Consult - 2</td>\n",
              "      <td>PAST MEDICAL HISTORY:, she has difficulty clim...</td>\n",
              "      <td>bariatrics, laparoscopic gastric bypass, weigh...</td>\n",
              "    </tr>\n",
              "    <tr>\n",
              "      <th>2</th>\n",
              "      <td>Consult for sleep study.</td>\n",
              "      <td>Bariatrics</td>\n",
              "      <td>Laparoscopic Gastric Bypass Consult - 1</td>\n",
              "      <td>HISTORY OF PRESENT ILLNESS: , I have seen ABC ...</td>\n",
              "      <td>bariatrics, laparoscopic gastric bypass, heart...</td>\n",
              "    </tr>\n",
              "    <tr>\n",
              "      <th>3</th>\n",
              "      <td>3-D M-Mode. pericardial effusion.</td>\n",
              "      <td>Cardiovascular / Pulmonary</td>\n",
              "      <td>2-D Echocardiogram - 1</td>\n",
              "      <td>pericardial effusion: , ,1.  right regurgitati...</td>\n",
              "      <td>cardiovascular / pulmonary, 2-d m-mode, dopple...</td>\n",
              "    </tr>\n",
              "    <tr>\n",
              "      <th>4</th>\n",
              "      <td>aortic root atrium</td>\n",
              "      <td>Cardiovascular / Pulmonary</td>\n",
              "      <td>2-D Echocardiogram - 2</td>\n",
              "      <td>2.  The right echocardiogram 2-d size and wall...</td>\n",
              "      <td>cardiovascular / pulmonary, 2-d, doppler, echo...</td>\n",
              "    </tr>\n",
              "  </tbody>\n",
              "</table>\n",
              "</div>"
            ],
            "text/plain": [
              "                                         description  \\\n",
              "0   A 15-year-old white male presents with compla...   \n",
              "1           Consult for laparoscopic gastric bypass.   \n",
              "2                           Consult for sleep study.   \n",
              "3                3-D M-Mode. pericardial effusion.     \n",
              "4                                 aortic root atrium   \n",
              "\n",
              "             medical_specialty                                sample_name  \\\n",
              "0         Allergy / Immunology                         Allergic Rhinitis    \n",
              "1                   Bariatrics   Laparoscopic Gastric Bypass Consult - 2    \n",
              "2                   Bariatrics   Laparoscopic Gastric Bypass Consult - 1    \n",
              "3   Cardiovascular / Pulmonary                    2-D Echocardiogram - 1    \n",
              "4   Cardiovascular / Pulmonary                    2-D Echocardiogram - 2    \n",
              "\n",
              "                                       transcription  \\\n",
              "0  SUBJECTIVE:,  This 29-year-old white male pres...   \n",
              "1  PAST MEDICAL HISTORY:, she has difficulty clim...   \n",
              "2  HISTORY OF PRESENT ILLNESS: , I have seen ABC ...   \n",
              "3  pericardial effusion: , ,1.  right regurgitati...   \n",
              "4  2.  The right echocardiogram 2-d size and wall...   \n",
              "\n",
              "                                            keywords  \n",
              "0  allergy / immunology, allergic rhinitis, aller...  \n",
              "1  bariatrics, laparoscopic gastric bypass, weigh...  \n",
              "2  bariatrics, laparoscopic gastric bypass, heart...  \n",
              "3  cardiovascular / pulmonary, 2-d m-mode, dopple...  \n",
              "4  cardiovascular / pulmonary, 2-d, doppler, echo...  "
            ]
          },
          "metadata": {},
          "execution_count": 9
        }
      ],
      "metadata": {
        "id": "oUCD6DGFlh1H"
      }
    },
    {
      "cell_type": "code",
      "execution_count": 10,
      "source": [
        "df2.to_csv(os.path.join(file_path, 're_augmented_mtsamples.csv'), sep=',')"
      ],
      "outputs": [],
      "metadata": {
        "id": "jymt1SU4lj4-"
      }
    },
    {
      "cell_type": "code",
      "execution_count": 11,
      "source": [
        "print(skipped_rec), len(skipped_rec)"
      ],
      "outputs": [
        {
          "output_type": "stream",
          "name": "stdout",
          "text": [
            "[97, 116, 205, 263, 459, 622, 628, 680, 729, 871, 879, 983, 984, 985, 987, 1017, 1055, 2016, 2455, 2498, 2529, 2585, 2588, 2650, 3582, 3588, 3621, 3626, 3629, 3632, 3725, 3771, 4649]\n"
          ]
        },
        {
          "output_type": "execute_result",
          "data": {
            "text/plain": [
              "(None, 33)"
            ]
          },
          "metadata": {},
          "execution_count": 11
        }
      ],
      "metadata": {}
    },
    {
      "cell_type": "code",
      "execution_count": null,
      "source": [],
      "outputs": [],
      "metadata": {}
    }
  ]
}
